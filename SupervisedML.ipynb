{
 "cells": [
  {
   "cell_type": "code",
   "execution_count": 1,
   "id": "3a31f171",
   "metadata": {},
   "outputs": [],
   "source": [
    "import pandas as pd"
   ]
  },
  {
   "cell_type": "markdown",
   "id": "550c6f63",
   "metadata": {},
   "source": [
    "# KDD Cup 1999 Data Competition"
   ]
  },
  {
   "cell_type": "code",
   "execution_count": 87,
   "id": "24cdc72b",
   "metadata": {},
   "outputs": [],
   "source": [
    "kddcup = pd.read_csv(\"ADM-kddcup_data-small.csv\", skipinitialspace=True)"
   ]
  },
  {
   "cell_type": "code",
   "execution_count": 88,
   "id": "45ee2cbb",
   "metadata": {},
   "outputs": [
    {
     "data": {
      "text/html": [
       "<div>\n",
       "<style scoped>\n",
       "    .dataframe tbody tr th:only-of-type {\n",
       "        vertical-align: middle;\n",
       "    }\n",
       "\n",
       "    .dataframe tbody tr th {\n",
       "        vertical-align: top;\n",
       "    }\n",
       "\n",
       "    .dataframe thead th {\n",
       "        text-align: right;\n",
       "    }\n",
       "</style>\n",
       "<table border=\"1\" class=\"dataframe\">\n",
       "  <thead>\n",
       "    <tr style=\"text-align: right;\">\n",
       "      <th></th>\n",
       "      <th>duration</th>\n",
       "      <th>protocol_type</th>\n",
       "      <th>service</th>\n",
       "      <th>flag</th>\n",
       "      <th>src_bytes</th>\n",
       "      <th>dst_bytes</th>\n",
       "      <th>land</th>\n",
       "      <th>wrong_fragment</th>\n",
       "      <th>urgent</th>\n",
       "      <th>hot</th>\n",
       "      <th>...</th>\n",
       "      <th>dst_host_srv_count</th>\n",
       "      <th>dst_host_same_srv_rate</th>\n",
       "      <th>dst_host_diff_srv_rate</th>\n",
       "      <th>dst_host_same_src_port_rate</th>\n",
       "      <th>dst_host_srv_diff_host_rate</th>\n",
       "      <th>dst_host_serror_rate</th>\n",
       "      <th>dst_host_srv_serror_rate</th>\n",
       "      <th>dst_host_rerror_rate</th>\n",
       "      <th>dst_host_srv_rerror_rate</th>\n",
       "      <th>label</th>\n",
       "    </tr>\n",
       "  </thead>\n",
       "  <tbody>\n",
       "    <tr>\n",
       "      <th>0</th>\n",
       "      <td>0</td>\n",
       "      <td>tcp</td>\n",
       "      <td>http</td>\n",
       "      <td>SF</td>\n",
       "      <td>54540</td>\n",
       "      <td>8314</td>\n",
       "      <td>0</td>\n",
       "      <td>0</td>\n",
       "      <td>0</td>\n",
       "      <td>2</td>\n",
       "      <td>...</td>\n",
       "      <td>190</td>\n",
       "      <td>1.0</td>\n",
       "      <td>0.00</td>\n",
       "      <td>0.01</td>\n",
       "      <td>0.0</td>\n",
       "      <td>0.00</td>\n",
       "      <td>0.00</td>\n",
       "      <td>0.01</td>\n",
       "      <td>0.01</td>\n",
       "      <td>back.</td>\n",
       "    </tr>\n",
       "    <tr>\n",
       "      <th>1</th>\n",
       "      <td>0</td>\n",
       "      <td>tcp</td>\n",
       "      <td>http</td>\n",
       "      <td>SF</td>\n",
       "      <td>54540</td>\n",
       "      <td>8314</td>\n",
       "      <td>0</td>\n",
       "      <td>0</td>\n",
       "      <td>0</td>\n",
       "      <td>2</td>\n",
       "      <td>...</td>\n",
       "      <td>255</td>\n",
       "      <td>1.0</td>\n",
       "      <td>0.00</td>\n",
       "      <td>0.00</td>\n",
       "      <td>0.0</td>\n",
       "      <td>0.00</td>\n",
       "      <td>0.00</td>\n",
       "      <td>0.04</td>\n",
       "      <td>0.04</td>\n",
       "      <td>back.</td>\n",
       "    </tr>\n",
       "    <tr>\n",
       "      <th>2</th>\n",
       "      <td>0</td>\n",
       "      <td>tcp</td>\n",
       "      <td>http</td>\n",
       "      <td>SF</td>\n",
       "      <td>54540</td>\n",
       "      <td>8314</td>\n",
       "      <td>0</td>\n",
       "      <td>0</td>\n",
       "      <td>0</td>\n",
       "      <td>2</td>\n",
       "      <td>...</td>\n",
       "      <td>99</td>\n",
       "      <td>1.0</td>\n",
       "      <td>0.00</td>\n",
       "      <td>0.01</td>\n",
       "      <td>0.0</td>\n",
       "      <td>0.01</td>\n",
       "      <td>0.01</td>\n",
       "      <td>0.01</td>\n",
       "      <td>0.01</td>\n",
       "      <td>back.</td>\n",
       "    </tr>\n",
       "    <tr>\n",
       "      <th>3</th>\n",
       "      <td>0</td>\n",
       "      <td>tcp</td>\n",
       "      <td>http</td>\n",
       "      <td>SF</td>\n",
       "      <td>54540</td>\n",
       "      <td>8314</td>\n",
       "      <td>0</td>\n",
       "      <td>0</td>\n",
       "      <td>0</td>\n",
       "      <td>2</td>\n",
       "      <td>...</td>\n",
       "      <td>255</td>\n",
       "      <td>1.0</td>\n",
       "      <td>0.00</td>\n",
       "      <td>0.00</td>\n",
       "      <td>0.0</td>\n",
       "      <td>0.00</td>\n",
       "      <td>0.00</td>\n",
       "      <td>0.04</td>\n",
       "      <td>0.04</td>\n",
       "      <td>back.</td>\n",
       "    </tr>\n",
       "    <tr>\n",
       "      <th>4</th>\n",
       "      <td>0</td>\n",
       "      <td>tcp</td>\n",
       "      <td>http</td>\n",
       "      <td>SF</td>\n",
       "      <td>54540</td>\n",
       "      <td>8314</td>\n",
       "      <td>0</td>\n",
       "      <td>0</td>\n",
       "      <td>0</td>\n",
       "      <td>2</td>\n",
       "      <td>...</td>\n",
       "      <td>255</td>\n",
       "      <td>1.0</td>\n",
       "      <td>0.00</td>\n",
       "      <td>0.00</td>\n",
       "      <td>0.0</td>\n",
       "      <td>0.01</td>\n",
       "      <td>0.01</td>\n",
       "      <td>0.03</td>\n",
       "      <td>0.03</td>\n",
       "      <td>back.</td>\n",
       "    </tr>\n",
       "    <tr>\n",
       "      <th>...</th>\n",
       "      <td>...</td>\n",
       "      <td>...</td>\n",
       "      <td>...</td>\n",
       "      <td>...</td>\n",
       "      <td>...</td>\n",
       "      <td>...</td>\n",
       "      <td>...</td>\n",
       "      <td>...</td>\n",
       "      <td>...</td>\n",
       "      <td>...</td>\n",
       "      <td>...</td>\n",
       "      <td>...</td>\n",
       "      <td>...</td>\n",
       "      <td>...</td>\n",
       "      <td>...</td>\n",
       "      <td>...</td>\n",
       "      <td>...</td>\n",
       "      <td>...</td>\n",
       "      <td>...</td>\n",
       "      <td>...</td>\n",
       "      <td>...</td>\n",
       "    </tr>\n",
       "    <tr>\n",
       "      <th>23747</th>\n",
       "      <td>9</td>\n",
       "      <td>tcp</td>\n",
       "      <td>ftp_data</td>\n",
       "      <td>SF</td>\n",
       "      <td>0</td>\n",
       "      <td>5149533</td>\n",
       "      <td>0</td>\n",
       "      <td>0</td>\n",
       "      <td>0</td>\n",
       "      <td>0</td>\n",
       "      <td>...</td>\n",
       "      <td>14</td>\n",
       "      <td>1.0</td>\n",
       "      <td>0.00</td>\n",
       "      <td>1.00</td>\n",
       "      <td>0.0</td>\n",
       "      <td>0.00</td>\n",
       "      <td>0.00</td>\n",
       "      <td>0.00</td>\n",
       "      <td>0.00</td>\n",
       "      <td>warezmaster.</td>\n",
       "    </tr>\n",
       "    <tr>\n",
       "      <th>23748</th>\n",
       "      <td>156</td>\n",
       "      <td>tcp</td>\n",
       "      <td>ftp</td>\n",
       "      <td>SF</td>\n",
       "      <td>950</td>\n",
       "      <td>2551</td>\n",
       "      <td>0</td>\n",
       "      <td>0</td>\n",
       "      <td>0</td>\n",
       "      <td>18</td>\n",
       "      <td>...</td>\n",
       "      <td>1</td>\n",
       "      <td>0.0</td>\n",
       "      <td>0.03</td>\n",
       "      <td>0.00</td>\n",
       "      <td>0.0</td>\n",
       "      <td>0.01</td>\n",
       "      <td>0.00</td>\n",
       "      <td>0.07</td>\n",
       "      <td>0.00</td>\n",
       "      <td>warezmaster.</td>\n",
       "    </tr>\n",
       "    <tr>\n",
       "      <th>23749</th>\n",
       "      <td>9</td>\n",
       "      <td>tcp</td>\n",
       "      <td>ftp_data</td>\n",
       "      <td>SF</td>\n",
       "      <td>0</td>\n",
       "      <td>5153771</td>\n",
       "      <td>0</td>\n",
       "      <td>0</td>\n",
       "      <td>0</td>\n",
       "      <td>0</td>\n",
       "      <td>...</td>\n",
       "      <td>12</td>\n",
       "      <td>1.0</td>\n",
       "      <td>0.00</td>\n",
       "      <td>1.00</td>\n",
       "      <td>0.0</td>\n",
       "      <td>0.00</td>\n",
       "      <td>0.00</td>\n",
       "      <td>0.00</td>\n",
       "      <td>0.00</td>\n",
       "      <td>warezmaster.</td>\n",
       "    </tr>\n",
       "    <tr>\n",
       "      <th>23750</th>\n",
       "      <td>0</td>\n",
       "      <td>tcp</td>\n",
       "      <td>ftp</td>\n",
       "      <td>SF</td>\n",
       "      <td>36</td>\n",
       "      <td>197</td>\n",
       "      <td>0</td>\n",
       "      <td>0</td>\n",
       "      <td>0</td>\n",
       "      <td>0</td>\n",
       "      <td>...</td>\n",
       "      <td>1</td>\n",
       "      <td>0.0</td>\n",
       "      <td>0.05</td>\n",
       "      <td>0.00</td>\n",
       "      <td>0.0</td>\n",
       "      <td>0.39</td>\n",
       "      <td>0.00</td>\n",
       "      <td>0.05</td>\n",
       "      <td>0.00</td>\n",
       "      <td>warezmaster.</td>\n",
       "    </tr>\n",
       "    <tr>\n",
       "      <th>23751</th>\n",
       "      <td>10</td>\n",
       "      <td>tcp</td>\n",
       "      <td>ftp_data</td>\n",
       "      <td>SF</td>\n",
       "      <td>0</td>\n",
       "      <td>5150841</td>\n",
       "      <td>0</td>\n",
       "      <td>0</td>\n",
       "      <td>0</td>\n",
       "      <td>0</td>\n",
       "      <td>...</td>\n",
       "      <td>10</td>\n",
       "      <td>1.0</td>\n",
       "      <td>0.00</td>\n",
       "      <td>1.00</td>\n",
       "      <td>0.0</td>\n",
       "      <td>0.00</td>\n",
       "      <td>0.00</td>\n",
       "      <td>0.00</td>\n",
       "      <td>0.00</td>\n",
       "      <td>warezmaster.</td>\n",
       "    </tr>\n",
       "  </tbody>\n",
       "</table>\n",
       "<p>23752 rows × 42 columns</p>\n",
       "</div>"
      ],
      "text/plain": [
       "       duration protocol_type   service flag  src_bytes  dst_bytes  land  \\\n",
       "0             0           tcp      http   SF      54540       8314     0   \n",
       "1             0           tcp      http   SF      54540       8314     0   \n",
       "2             0           tcp      http   SF      54540       8314     0   \n",
       "3             0           tcp      http   SF      54540       8314     0   \n",
       "4             0           tcp      http   SF      54540       8314     0   \n",
       "...         ...           ...       ...  ...        ...        ...   ...   \n",
       "23747         9           tcp  ftp_data   SF          0    5149533     0   \n",
       "23748       156           tcp       ftp   SF        950       2551     0   \n",
       "23749         9           tcp  ftp_data   SF          0    5153771     0   \n",
       "23750         0           tcp       ftp   SF         36        197     0   \n",
       "23751        10           tcp  ftp_data   SF          0    5150841     0   \n",
       "\n",
       "       wrong_fragment  urgent  hot  ...  dst_host_srv_count  \\\n",
       "0                   0       0    2  ...                 190   \n",
       "1                   0       0    2  ...                 255   \n",
       "2                   0       0    2  ...                  99   \n",
       "3                   0       0    2  ...                 255   \n",
       "4                   0       0    2  ...                 255   \n",
       "...               ...     ...  ...  ...                 ...   \n",
       "23747               0       0    0  ...                  14   \n",
       "23748               0       0   18  ...                   1   \n",
       "23749               0       0    0  ...                  12   \n",
       "23750               0       0    0  ...                   1   \n",
       "23751               0       0    0  ...                  10   \n",
       "\n",
       "       dst_host_same_srv_rate  dst_host_diff_srv_rate  \\\n",
       "0                         1.0                    0.00   \n",
       "1                         1.0                    0.00   \n",
       "2                         1.0                    0.00   \n",
       "3                         1.0                    0.00   \n",
       "4                         1.0                    0.00   \n",
       "...                       ...                     ...   \n",
       "23747                     1.0                    0.00   \n",
       "23748                     0.0                    0.03   \n",
       "23749                     1.0                    0.00   \n",
       "23750                     0.0                    0.05   \n",
       "23751                     1.0                    0.00   \n",
       "\n",
       "       dst_host_same_src_port_rate  dst_host_srv_diff_host_rate  \\\n",
       "0                             0.01                          0.0   \n",
       "1                             0.00                          0.0   \n",
       "2                             0.01                          0.0   \n",
       "3                             0.00                          0.0   \n",
       "4                             0.00                          0.0   \n",
       "...                            ...                          ...   \n",
       "23747                         1.00                          0.0   \n",
       "23748                         0.00                          0.0   \n",
       "23749                         1.00                          0.0   \n",
       "23750                         0.00                          0.0   \n",
       "23751                         1.00                          0.0   \n",
       "\n",
       "       dst_host_serror_rate  dst_host_srv_serror_rate  dst_host_rerror_rate  \\\n",
       "0                      0.00                      0.00                  0.01   \n",
       "1                      0.00                      0.00                  0.04   \n",
       "2                      0.01                      0.01                  0.01   \n",
       "3                      0.00                      0.00                  0.04   \n",
       "4                      0.01                      0.01                  0.03   \n",
       "...                     ...                       ...                   ...   \n",
       "23747                  0.00                      0.00                  0.00   \n",
       "23748                  0.01                      0.00                  0.07   \n",
       "23749                  0.00                      0.00                  0.00   \n",
       "23750                  0.39                      0.00                  0.05   \n",
       "23751                  0.00                      0.00                  0.00   \n",
       "\n",
       "       dst_host_srv_rerror_rate         label  \n",
       "0                          0.01         back.  \n",
       "1                          0.04         back.  \n",
       "2                          0.01         back.  \n",
       "3                          0.04         back.  \n",
       "4                          0.03         back.  \n",
       "...                         ...           ...  \n",
       "23747                      0.00  warezmaster.  \n",
       "23748                      0.00  warezmaster.  \n",
       "23749                      0.00  warezmaster.  \n",
       "23750                      0.00  warezmaster.  \n",
       "23751                      0.00  warezmaster.  \n",
       "\n",
       "[23752 rows x 42 columns]"
      ]
     },
     "execution_count": 88,
     "metadata": {},
     "output_type": "execute_result"
    }
   ],
   "source": [
    "kddcup"
   ]
  },
  {
   "cell_type": "markdown",
   "id": "208f8ddf",
   "metadata": {},
   "source": [
    "## Problem definition"
   ]
  },
  {
   "cell_type": "markdown",
   "id": "1595c583",
   "metadata": {},
   "source": [
    "We want to separate the dataset with the label normal and the other labels"
   ]
  },
  {
   "cell_type": "markdown",
   "id": "0a2f0b8b",
   "metadata": {},
   "source": [
    "Here, there are the possibles values of label :"
   ]
  },
  {
   "cell_type": "code",
   "execution_count": 89,
   "id": "3aa0354d",
   "metadata": {},
   "outputs": [
    {
     "data": {
      "text/plain": [
       "array(['back.', 'buffer_overflow.', 'ftp_write.', 'guess_passwd.',\n",
       "       'imap.', 'ipsweep.', 'land.', 'loadmodule.', 'multihop.',\n",
       "       'neptune.', 'nmap.', 'normal.', 'perl.', 'phf.', 'pod.',\n",
       "       'portsweep.', 'rootkit.', 'satan.', 'smurf.', 'spy.', 'teardrop.',\n",
       "       'warezclient.', 'warezmaster.'], dtype=object)"
      ]
     },
     "execution_count": 89,
     "metadata": {},
     "output_type": "execute_result"
    }
   ],
   "source": [
    "kddcup[\"label\"].unique()"
   ]
  },
  {
   "cell_type": "markdown",
   "id": "2b6f92a9",
   "metadata": {},
   "source": [
    "* back.\n",
    "* buffer_overflow.\n",
    "* ftp_write.\n",
    "* guess_passwd.\n",
    "* imap.\n",
    "* ipsweep.\n",
    "* land.\n",
    "* loadmodule.\n",
    "* multihop.\n",
    "* neptune.\n",
    "* nmap.\n",
    "* **normal.**\n",
    "* perl.\n",
    "* phf.\n",
    "* pod.\n",
    "* portsweep.\n",
    "* rootkit.\n",
    "* satan.\n",
    "* smurf.\n",
    "* spy.\n",
    "* teardrop.\n",
    "* warezclient.\n",
    "* warezmaster."
   ]
  },
  {
   "cell_type": "markdown",
   "id": "5b927449",
   "metadata": {},
   "source": [
    "## Visualisation"
   ]
  },
  {
   "cell_type": "code",
   "execution_count": 90,
   "id": "1f018682",
   "metadata": {},
   "outputs": [],
   "source": [
    "import seaborn as sns"
   ]
  },
  {
   "cell_type": "markdown",
   "id": "27ebf4f0",
   "metadata": {},
   "source": [
    "I want to know how many features and row there are: "
   ]
  },
  {
   "cell_type": "code",
   "execution_count": 91,
   "id": "e373ce72",
   "metadata": {},
   "outputs": [
    {
     "data": {
      "text/plain": [
       "(23752, 42)"
      ]
     },
     "execution_count": 91,
     "metadata": {},
     "output_type": "execute_result"
    }
   ],
   "source": [
    "kddcup.shape"
   ]
  },
  {
   "cell_type": "markdown",
   "id": "49c3d078",
   "metadata": {},
   "source": [
    "That means we have 42 features ( or dimensions ) with 23 752 points"
   ]
  },
  {
   "cell_type": "markdown",
   "id": "f06bcd8d",
   "metadata": {},
   "source": [
    "I can see there are a lot of differents type of attacks"
   ]
  },
  {
   "cell_type": "code",
   "execution_count": 92,
   "id": "4abddcca",
   "metadata": {},
   "outputs": [
    {
     "data": {
      "text/plain": [
       "<AxesSubplot: >"
      ]
     },
     "execution_count": 92,
     "metadata": {},
     "output_type": "execute_result"
    },
    {
     "data": {
      "image/png": "[encoded data removed]",
      "text/plain": [
       "<Figure size 640x480 with 1 Axes>"
      ]
     },
     "metadata": {},
     "output_type": "display_data"
    }
   ],
   "source": [
    "kddcup[\"label\"].hist(grid=False, xrot=90)"
   ]
  },
  {
   "cell_type": "markdown",
   "id": "24cb35a3",
   "metadata": {},
   "source": [
    "I want to check if there is null values in the dataset. For that I use the seaborn library which is made for Data Visualization. I use a heatmap graph which is in white if the value of a column is null. "
   ]
  },
  {
   "cell_type": "code",
   "execution_count": 93,
   "id": "97e53b12",
   "metadata": {},
   "outputs": [
    {
     "data": {
      "text/plain": [
       "<AxesSubplot: >"
      ]
     },
     "execution_count": 93,
     "metadata": {},
     "output_type": "execute_result"
    },
    {
     "data": {
      "image/png": "[encoded data removed]",
      "text/plain": [
       "<Figure size 640x480 with 1 Axes>"
      ]
     },
     "metadata": {},
     "output_type": "display_data"
    }
   ],
   "source": [
    "# The white represents the missing values\n",
    "sns.heatmap(kddcup.isnull(), cbar=False)"
   ]
  },
  {
   "cell_type": "markdown",
   "id": "48635c05",
   "metadata": {},
   "source": [
    "I am happy to see there is no missing values. I can check in another way with the sum() function on isnull() "
   ]
  },
  {
   "cell_type": "code",
   "execution_count": 94,
   "id": "e232f8fc",
   "metadata": {},
   "outputs": [
    {
     "data": {
      "text/plain": [
       "duration                       0\n",
       "protocol_type                  0\n",
       "service                        0\n",
       "flag                           0\n",
       "src_bytes                      0\n",
       "dst_bytes                      0\n",
       "land                           0\n",
       "wrong_fragment                 0\n",
       "urgent                         0\n",
       "hot                            0\n",
       "num_failed_logins              0\n",
       "logged_in                      0\n",
       "num_compromised                0\n",
       "root_shell                     0\n",
       "su_attempted                   0\n",
       "num_root                       0\n",
       "num_file_creations             0\n",
       "num_shells                     0\n",
       "num_access_files               0\n",
       "num_outbound_cmds              0\n",
       "is_host_login                  0\n",
       "is_guest_login                 0\n",
       "count                          0\n",
       "srv_count                      0\n",
       "serror_rate                    0\n",
       "srv_serror_rate                0\n",
       "rerror_rate                    0\n",
       "srv_rerror_rate                0\n",
       "same_srv_rate                  0\n",
       "diff_srv_rate                  0\n",
       "srv_diff_host_rate             0\n",
       "dst_host_count                 0\n",
       "dst_host_srv_count             0\n",
       "dst_host_same_srv_rate         0\n",
       "dst_host_diff_srv_rate         0\n",
       "dst_host_same_src_port_rate    0\n",
       "dst_host_srv_diff_host_rate    0\n",
       "dst_host_serror_rate           0\n",
       "dst_host_srv_serror_rate       0\n",
       "dst_host_rerror_rate           0\n",
       "dst_host_srv_rerror_rate       0\n",
       "label                          0\n",
       "dtype: int64"
      ]
     },
     "execution_count": 94,
     "metadata": {},
     "output_type": "execute_result"
    }
   ],
   "source": [
    "kddcup.isnull().sum()"
   ]
  },
  {
   "cell_type": "code",
   "execution_count": 95,
   "id": "73e128d4",
   "metadata": {},
   "outputs": [
    {
     "data": {
      "text/plain": [
       "array(['tcp', 'icmp', 'udp'], dtype=object)"
      ]
     },
     "execution_count": 95,
     "metadata": {},
     "output_type": "execute_result"
    }
   ],
   "source": [
    "kddcup.protocol_type.unique()"
   ]
  },
  {
   "cell_type": "code",
   "execution_count": 96,
   "id": "8ab150ec",
   "metadata": {},
   "outputs": [
    {
     "data": {
      "text/plain": [
       "<AxesSubplot: xlabel='protocol_type', ylabel='count'>"
      ]
     },
     "execution_count": 96,
     "metadata": {},
     "output_type": "execute_result"
    },
    {
     "data": {
      "image/png": "[encoded data removed]",
      "text/plain": [
       "<Figure size 640x480 with 1 Axes>"
      ]
     },
     "metadata": {},
     "output_type": "display_data"
    }
   ],
   "source": [
    "sns.countplot(data=kddcup, x=\"protocol_type\", hue=\"label\")"
   ]
  },
  {
   "cell_type": "markdown",
   "id": "95a5da77",
   "metadata": {},
   "source": [
    "We can see links between protocol type and the type of attack"
   ]
  },
  {
   "cell_type": "markdown",
   "id": "924afcc3",
   "metadata": {},
   "source": [
    "## Data Preprocessing"
   ]
  },
  {
   "cell_type": "markdown",
   "id": "65a3a754",
   "metadata": {},
   "source": [
    "In the Data Visualization part, it's possible to see there is no missing values. However, the dataset is a mix of categorical data and numerical data. In order to solve the problem, I need to encode the categorical values. "
   ]
  },
  {
   "cell_type": "markdown",
   "id": "edc4d8ea",
   "metadata": {},
   "source": [
    "First, I need to get the type of the features. "
   ]
  },
  {
   "cell_type": "code",
   "execution_count": 97,
   "id": "1d851f1b",
   "metadata": {},
   "outputs": [
    {
     "name": "stdout",
     "output_type": "stream",
     "text": [
      "<class 'pandas.core.frame.DataFrame'>\n",
      "RangeIndex: 23752 entries, 0 to 23751\n",
      "Data columns (total 42 columns):\n",
      " #   Column                       Non-Null Count  Dtype  \n",
      "---  ------                       --------------  -----  \n",
      " 0   duration                     23752 non-null  int64  \n",
      " 1   protocol_type                23752 non-null  object \n",
      " 2   service                      23752 non-null  object \n",
      " 3   flag                         23752 non-null  object \n",
      " 4   src_bytes                    23752 non-null  int64  \n",
      " 5   dst_bytes                    23752 non-null  int64  \n",
      " 6   land                         23752 non-null  int64  \n",
      " 7   wrong_fragment               23752 non-null  int64  \n",
      " 8   urgent                       23752 non-null  int64  \n",
      " 9   hot                          23752 non-null  int64  \n",
      " 10  num_failed_logins            23752 non-null  int64  \n",
      " 11  logged_in                    23752 non-null  int64  \n",
      " 12  num_compromised              23752 non-null  int64  \n",
      " 13  root_shell                   23752 non-null  int64  \n",
      " 14  su_attempted                 23752 non-null  int64  \n",
      " 15  num_root                     23752 non-null  int64  \n",
      " 16  num_file_creations           23752 non-null  int64  \n",
      " 17  num_shells                   23752 non-null  int64  \n",
      " 18  num_access_files             23752 non-null  int64  \n",
      " 19  num_outbound_cmds            23752 non-null  int64  \n",
      " 20  is_host_login                23752 non-null  int64  \n",
      " 21  is_guest_login               23752 non-null  int64  \n",
      " 22  count                        23752 non-null  int64  \n",
      " 23  srv_count                    23752 non-null  int64  \n",
      " 24  serror_rate                  23752 non-null  float64\n",
      " 25  srv_serror_rate              23752 non-null  float64\n",
      " 26  rerror_rate                  23752 non-null  float64\n",
      " 27  srv_rerror_rate              23752 non-null  float64\n",
      " 28  same_srv_rate                23752 non-null  float64\n",
      " 29  diff_srv_rate                23752 non-null  float64\n",
      " 30  srv_diff_host_rate           23752 non-null  float64\n",
      " 31  dst_host_count               23752 non-null  int64  \n",
      " 32  dst_host_srv_count           23752 non-null  int64  \n",
      " 33  dst_host_same_srv_rate       23752 non-null  float64\n",
      " 34  dst_host_diff_srv_rate       23752 non-null  float64\n",
      " 35  dst_host_same_src_port_rate  23752 non-null  float64\n",
      " 36  dst_host_srv_diff_host_rate  23752 non-null  float64\n",
      " 37  dst_host_serror_rate         23752 non-null  float64\n",
      " 38  dst_host_srv_serror_rate     23752 non-null  float64\n",
      " 39  dst_host_rerror_rate         23752 non-null  float64\n",
      " 40  dst_host_srv_rerror_rate     23752 non-null  float64\n",
      " 41  label                        23752 non-null  object \n",
      "dtypes: float64(15), int64(23), object(4)\n",
      "memory usage: 7.6+ MB\n"
     ]
    }
   ],
   "source": [
    "kddcup.info()"
   ]
  },
  {
   "cell_type": "markdown",
   "id": "2553098c",
   "metadata": {},
   "source": [
    "As we can see below, there is a mix of float64, int64 and object types. The object type is the categorical data. protocol_type, service, flag and label are the categorical data. "
   ]
  },
  {
   "cell_type": "markdown",
   "id": "5ec3e5de",
   "metadata": {},
   "source": [
    "Because first, I want to separate normal traffic for attack, I don't need the have all the type of the label. So, I can copy the dataset and modify the not normal label to \"attack\" "
   ]
  },
  {
   "cell_type": "code",
   "execution_count": 98,
   "id": "604f9f3f",
   "metadata": {},
   "outputs": [],
   "source": [
    "preprocessedkdd = kddcup.copy()"
   ]
  },
  {
   "cell_type": "code",
   "execution_count": 99,
   "id": "cf2a36be",
   "metadata": {},
   "outputs": [],
   "source": [
    "preprocessedkdd.loc[preprocessedkdd['label'] != \"normal.\", 'label'] = 'attack.'"
   ]
  },
  {
   "cell_type": "code",
   "execution_count": 100,
   "id": "086bb1d2",
   "metadata": {},
   "outputs": [
    {
     "data": {
      "text/plain": [
       "array(['attack.', 'normal.'], dtype=object)"
      ]
     },
     "execution_count": 100,
     "metadata": {},
     "output_type": "execute_result"
    }
   ],
   "source": [
    "preprocessedkdd.label.unique()"
   ]
  },
  {
   "cell_type": "code",
   "execution_count": 101,
   "id": "23c7b95b",
   "metadata": {},
   "outputs": [
    {
     "data": {
      "text/plain": [
       "array(['back.', 'buffer_overflow.', 'ftp_write.', 'guess_passwd.',\n",
       "       'imap.', 'ipsweep.', 'land.', 'loadmodule.', 'multihop.',\n",
       "       'neptune.', 'nmap.', 'normal.', 'perl.', 'phf.', 'pod.',\n",
       "       'portsweep.', 'rootkit.', 'satan.', 'smurf.', 'spy.', 'teardrop.',\n",
       "       'warezclient.', 'warezmaster.'], dtype=object)"
      ]
     },
     "execution_count": 101,
     "metadata": {},
     "output_type": "execute_result"
    }
   ],
   "source": [
    "kddcup.label.unique()"
   ]
  },
  {
   "cell_type": "markdown",
   "id": "14465676",
   "metadata": {},
   "source": [
    "The values of categorical data are nominal according to https://www.kdnuggets.com/2021/05/deal-with-categorical-data-machine-learning.html , it's better to use One-Hot encoding.  "
   ]
  },
  {
   "cell_type": "code",
   "execution_count": 102,
   "id": "813c6c65",
   "metadata": {},
   "outputs": [],
   "source": [
    "from sklearn.preprocessing import OneHotEncoder\n",
    "onehot_encoder = OneHotEncoder(sparse=False)"
   ]
  },
  {
   "cell_type": "code",
   "execution_count": 103,
   "id": "16925a8d",
   "metadata": {},
   "outputs": [
    {
     "name": "stderr",
     "output_type": "stream",
     "text": [
      "/home/adam/DataMiningProject/DataMiningProject/venv/lib/python3.10/site-packages/sklearn/preprocessing/_encoders.py:808: FutureWarning: `sparse` was renamed to `sparse_output` in version 1.2 and will be removed in 1.4. `sparse_output` is ignored unless you leave `sparse` to its default value.\n",
      "  warnings.warn(\n"
     ]
    },
    {
     "data": {
      "text/html": [
       "<div>\n",
       "<style scoped>\n",
       "    .dataframe tbody tr th:only-of-type {\n",
       "        vertical-align: middle;\n",
       "    }\n",
       "\n",
       "    .dataframe tbody tr th {\n",
       "        vertical-align: top;\n",
       "    }\n",
       "\n",
       "    .dataframe thead th {\n",
       "        text-align: right;\n",
       "    }\n",
       "</style>\n",
       "<table border=\"1\" class=\"dataframe\">\n",
       "  <thead>\n",
       "    <tr style=\"text-align: right;\">\n",
       "      <th></th>\n",
       "      <th>protocol_type</th>\n",
       "      <th>service</th>\n",
       "      <th>flag</th>\n",
       "      <th>label</th>\n",
       "    </tr>\n",
       "  </thead>\n",
       "  <tbody>\n",
       "    <tr>\n",
       "      <th>0</th>\n",
       "      <td>tcp</td>\n",
       "      <td>http</td>\n",
       "      <td>SF</td>\n",
       "      <td>attack.</td>\n",
       "    </tr>\n",
       "  </tbody>\n",
       "</table>\n",
       "</div>"
      ],
      "text/plain": [
       "  protocol_type service flag    label\n",
       "0           tcp    http   SF  attack."
      ]
     },
     "execution_count": 103,
     "metadata": {},
     "output_type": "execute_result"
    }
   ],
   "source": [
    "#your code\n",
    "preprocessedkdd_objects = preprocessedkdd.select_dtypes(include=\"object\")\n",
    "onehot_encoder.fit_transform(preprocessedkdd_objects)\n",
    "preprocessedkdd_objects.loc[[0]]"
   ]
  },
  {
   "cell_type": "code",
   "execution_count": 105,
   "id": "b9cf1270",
   "metadata": {},
   "outputs": [
    {
     "data": {
      "text/plain": [
       "array([[0., 1., 0., 0., 0., 0., 0., 0., 0., 0., 0., 0., 0., 0., 0., 0.,\n",
       "        0., 0., 0., 0., 0., 0., 0., 0., 0., 1., 0., 0., 0., 0., 0., 0.,\n",
       "        0., 0., 0., 0., 0., 0., 0., 0., 0., 0., 0., 0., 0., 0., 0., 0.,\n",
       "        0., 0., 0., 0., 0., 0., 0., 0., 0., 0., 0., 0., 0., 0., 0., 0.,\n",
       "        0., 0., 0., 0., 0., 0., 0., 0., 0., 0., 0., 0., 1., 0., 1., 0.]])"
      ]
     },
     "execution_count": 105,
     "metadata": {},
     "output_type": "execute_result"
    }
   ],
   "source": [
    "onehot_encoder.transform(preprocessedkdd_objects.loc[[0]])"
   ]
  },
  {
   "cell_type": "markdown",
   "id": "8b66058b",
   "metadata": {},
   "source": [
    "## Model Training"
   ]
  },
  {
   "cell_type": "markdown",
   "id": "f7fe7788",
   "metadata": {},
   "source": [
    "Because There is a binary classification, it's better to use SVM algorithm. "
   ]
  },
  {
   "cell_type": "code",
   "execution_count": null,
   "id": "f8dbfab4",
   "metadata": {},
   "outputs": [],
   "source": []
  },
  {
   "cell_type": "markdown",
   "id": "86711280",
   "metadata": {},
   "source": [
    "## Parameter Tuning "
   ]
  },
  {
   "cell_type": "code",
   "execution_count": null,
   "id": "8e8a49af",
   "metadata": {},
   "outputs": [],
   "source": []
  },
  {
   "cell_type": "markdown",
   "id": "0f4292ef",
   "metadata": {},
   "source": [
    "## Result Analysis"
   ]
  },
  {
   "cell_type": "code",
   "execution_count": null,
   "id": "80528590",
   "metadata": {},
   "outputs": [],
   "source": []
  }
 ],
 "metadata": {
  "kernelspec": {
   "display_name": "Python 3 (ipykernel)",
   "language": "python",
   "name": "python3"
  },
  "language_info": {
   "codemirror_mode": {
    "name": "ipython",
    "version": 3
   },
   "file_extension": ".py",
   "mimetype": "text/x-python",
   "name": "python",
   "nbconvert_exporter": "python",
   "pygments_lexer": "ipython3",
   "version": "3.10.6"
  },
  "vscode": {
   "interpreter": {
    "hash": "3d964bbfe021e0f5fae8674fa756b728c90ccee70984bad3a6673429c892eda6"
   }
  }
 },
 "nbformat": 4,
 "nbformat_minor": 5
}
