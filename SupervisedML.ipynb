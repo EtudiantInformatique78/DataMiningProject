{
 "cells": [
  {
   "cell_type": "code",
   "execution_count": 1,
   "id": "3a31f171",
   "metadata": {},
   "outputs": [],
   "source": [
    "import pandas as pd"
   ]
  },
  {
   "cell_type": "code",
   "execution_count": 2,
   "id": "24cdc72b",
   "metadata": {},
   "outputs": [],
   "source": [
    "kddcup = pd.read_csv(\"ADM-kddcup_data-small.csv\")"
   ]
  },
  {
   "cell_type": "code",
   "execution_count": 3,
   "id": "45ee2cbb",
   "metadata": {},
   "outputs": [
    {
     "data": {
      "text/plain": "       duration  protocol_type   service  flag   src_bytes   dst_bytes   land  \\\n0             0            tcp      http    SF       54540        8314      0   \n1             0            tcp      http    SF       54540        8314      0   \n2             0            tcp      http    SF       54540        8314      0   \n3             0            tcp      http    SF       54540        8314      0   \n4             0            tcp      http    SF       54540        8314      0   \n...         ...            ...       ...   ...         ...         ...    ...   \n23747         9            tcp  ftp_data    SF           0     5149533      0   \n23748       156            tcp       ftp    SF         950        2551      0   \n23749         9            tcp  ftp_data    SF           0     5153771      0   \n23750         0            tcp       ftp    SF          36         197      0   \n23751        10            tcp  ftp_data    SF           0     5150841      0   \n\n        wrong_fragment   urgent   hot  ...   dst_host_srv_count  \\\n0                    0        0     2  ...                  190   \n1                    0        0     2  ...                  255   \n2                    0        0     2  ...                   99   \n3                    0        0     2  ...                  255   \n4                    0        0     2  ...                  255   \n...                ...      ...   ...  ...                  ...   \n23747                0        0     0  ...                   14   \n23748                0        0    18  ...                    1   \n23749                0        0     0  ...                   12   \n23750                0        0     0  ...                    1   \n23751                0        0     0  ...                   10   \n\n        dst_host_same_srv_rate   dst_host_diff_srv_rate  \\\n0                          1.0                     0.00   \n1                          1.0                     0.00   \n2                          1.0                     0.00   \n3                          1.0                     0.00   \n4                          1.0                     0.00   \n...                        ...                      ...   \n23747                      1.0                     0.00   \n23748                      0.0                     0.03   \n23749                      1.0                     0.00   \n23750                      0.0                     0.05   \n23751                      1.0                     0.00   \n\n        dst_host_same_src_port_rate   dst_host_srv_diff_host_rate  \\\n0                              0.01                           0.0   \n1                              0.00                           0.0   \n2                              0.01                           0.0   \n3                              0.00                           0.0   \n4                              0.00                           0.0   \n...                             ...                           ...   \n23747                          1.00                           0.0   \n23748                          0.00                           0.0   \n23749                          1.00                           0.0   \n23750                          0.00                           0.0   \n23751                          1.00                           0.0   \n\n        dst_host_serror_rate   dst_host_srv_serror_rate  \\\n0                       0.00                       0.00   \n1                       0.00                       0.00   \n2                       0.01                       0.01   \n3                       0.00                       0.00   \n4                       0.01                       0.01   \n...                      ...                        ...   \n23747                   0.00                       0.00   \n23748                   0.01                       0.00   \n23749                   0.00                       0.00   \n23750                   0.39                       0.00   \n23751                   0.00                       0.00   \n\n        dst_host_rerror_rate   dst_host_srv_rerror_rate         label  \n0                       0.01                       0.01         back.  \n1                       0.04                       0.04         back.  \n2                       0.01                       0.01         back.  \n3                       0.04                       0.04         back.  \n4                       0.03                       0.03         back.  \n...                      ...                        ...           ...  \n23747                   0.00                       0.00  warezmaster.  \n23748                   0.07                       0.00  warezmaster.  \n23749                   0.00                       0.00  warezmaster.  \n23750                   0.05                       0.00  warezmaster.  \n23751                   0.00                       0.00  warezmaster.  \n\n[23752 rows x 42 columns]",
      "text/html": "<div>\n<style scoped>\n    .dataframe tbody tr th:only-of-type {\n        vertical-align: middle;\n    }\n\n    .dataframe tbody tr th {\n        vertical-align: top;\n    }\n\n    .dataframe thead th {\n        text-align: right;\n    }\n</style>\n<table border=\"1\" class=\"dataframe\">\n  <thead>\n    <tr style=\"text-align: right;\">\n      <th></th>\n      <th>duration</th>\n      <th>protocol_type</th>\n      <th>service</th>\n      <th>flag</th>\n      <th>src_bytes</th>\n      <th>dst_bytes</th>\n      <th>land</th>\n      <th>wrong_fragment</th>\n      <th>urgent</th>\n      <th>hot</th>\n      <th>...</th>\n      <th>dst_host_srv_count</th>\n      <th>dst_host_same_srv_rate</th>\n      <th>dst_host_diff_srv_rate</th>\n      <th>dst_host_same_src_port_rate</th>\n      <th>dst_host_srv_diff_host_rate</th>\n      <th>dst_host_serror_rate</th>\n      <th>dst_host_srv_serror_rate</th>\n      <th>dst_host_rerror_rate</th>\n      <th>dst_host_srv_rerror_rate</th>\n      <th>label</th>\n    </tr>\n  </thead>\n  <tbody>\n    <tr>\n      <th>0</th>\n      <td>0</td>\n      <td>tcp</td>\n      <td>http</td>\n      <td>SF</td>\n      <td>54540</td>\n      <td>8314</td>\n      <td>0</td>\n      <td>0</td>\n      <td>0</td>\n      <td>2</td>\n      <td>...</td>\n      <td>190</td>\n      <td>1.0</td>\n      <td>0.00</td>\n      <td>0.01</td>\n      <td>0.0</td>\n      <td>0.00</td>\n      <td>0.00</td>\n      <td>0.01</td>\n      <td>0.01</td>\n      <td>back.</td>\n    </tr>\n    <tr>\n      <th>1</th>\n      <td>0</td>\n      <td>tcp</td>\n      <td>http</td>\n      <td>SF</td>\n      <td>54540</td>\n      <td>8314</td>\n      <td>0</td>\n      <td>0</td>\n      <td>0</td>\n      <td>2</td>\n      <td>...</td>\n      <td>255</td>\n      <td>1.0</td>\n      <td>0.00</td>\n      <td>0.00</td>\n      <td>0.0</td>\n      <td>0.00</td>\n      <td>0.00</td>\n      <td>0.04</td>\n      <td>0.04</td>\n      <td>back.</td>\n    </tr>\n    <tr>\n      <th>2</th>\n      <td>0</td>\n      <td>tcp</td>\n      <td>http</td>\n      <td>SF</td>\n      <td>54540</td>\n      <td>8314</td>\n      <td>0</td>\n      <td>0</td>\n      <td>0</td>\n      <td>2</td>\n      <td>...</td>\n      <td>99</td>\n      <td>1.0</td>\n      <td>0.00</td>\n      <td>0.01</td>\n      <td>0.0</td>\n      <td>0.01</td>\n      <td>0.01</td>\n      <td>0.01</td>\n      <td>0.01</td>\n      <td>back.</td>\n    </tr>\n    <tr>\n      <th>3</th>\n      <td>0</td>\n      <td>tcp</td>\n      <td>http</td>\n      <td>SF</td>\n      <td>54540</td>\n      <td>8314</td>\n      <td>0</td>\n      <td>0</td>\n      <td>0</td>\n      <td>2</td>\n      <td>...</td>\n      <td>255</td>\n      <td>1.0</td>\n      <td>0.00</td>\n      <td>0.00</td>\n      <td>0.0</td>\n      <td>0.00</td>\n      <td>0.00</td>\n      <td>0.04</td>\n      <td>0.04</td>\n      <td>back.</td>\n    </tr>\n    <tr>\n      <th>4</th>\n      <td>0</td>\n      <td>tcp</td>\n      <td>http</td>\n      <td>SF</td>\n      <td>54540</td>\n      <td>8314</td>\n      <td>0</td>\n      <td>0</td>\n      <td>0</td>\n      <td>2</td>\n      <td>...</td>\n      <td>255</td>\n      <td>1.0</td>\n      <td>0.00</td>\n      <td>0.00</td>\n      <td>0.0</td>\n      <td>0.01</td>\n      <td>0.01</td>\n      <td>0.03</td>\n      <td>0.03</td>\n      <td>back.</td>\n    </tr>\n    <tr>\n      <th>...</th>\n      <td>...</td>\n      <td>...</td>\n      <td>...</td>\n      <td>...</td>\n      <td>...</td>\n      <td>...</td>\n      <td>...</td>\n      <td>...</td>\n      <td>...</td>\n      <td>...</td>\n      <td>...</td>\n      <td>...</td>\n      <td>...</td>\n      <td>...</td>\n      <td>...</td>\n      <td>...</td>\n      <td>...</td>\n      <td>...</td>\n      <td>...</td>\n      <td>...</td>\n      <td>...</td>\n    </tr>\n    <tr>\n      <th>23747</th>\n      <td>9</td>\n      <td>tcp</td>\n      <td>ftp_data</td>\n      <td>SF</td>\n      <td>0</td>\n      <td>5149533</td>\n      <td>0</td>\n      <td>0</td>\n      <td>0</td>\n      <td>0</td>\n      <td>...</td>\n      <td>14</td>\n      <td>1.0</td>\n      <td>0.00</td>\n      <td>1.00</td>\n      <td>0.0</td>\n      <td>0.00</td>\n      <td>0.00</td>\n      <td>0.00</td>\n      <td>0.00</td>\n      <td>warezmaster.</td>\n    </tr>\n    <tr>\n      <th>23748</th>\n      <td>156</td>\n      <td>tcp</td>\n      <td>ftp</td>\n      <td>SF</td>\n      <td>950</td>\n      <td>2551</td>\n      <td>0</td>\n      <td>0</td>\n      <td>0</td>\n      <td>18</td>\n      <td>...</td>\n      <td>1</td>\n      <td>0.0</td>\n      <td>0.03</td>\n      <td>0.00</td>\n      <td>0.0</td>\n      <td>0.01</td>\n      <td>0.00</td>\n      <td>0.07</td>\n      <td>0.00</td>\n      <td>warezmaster.</td>\n    </tr>\n    <tr>\n      <th>23749</th>\n      <td>9</td>\n      <td>tcp</td>\n      <td>ftp_data</td>\n      <td>SF</td>\n      <td>0</td>\n      <td>5153771</td>\n      <td>0</td>\n      <td>0</td>\n      <td>0</td>\n      <td>0</td>\n      <td>...</td>\n      <td>12</td>\n      <td>1.0</td>\n      <td>0.00</td>\n      <td>1.00</td>\n      <td>0.0</td>\n      <td>0.00</td>\n      <td>0.00</td>\n      <td>0.00</td>\n      <td>0.00</td>\n      <td>warezmaster.</td>\n    </tr>\n    <tr>\n      <th>23750</th>\n      <td>0</td>\n      <td>tcp</td>\n      <td>ftp</td>\n      <td>SF</td>\n      <td>36</td>\n      <td>197</td>\n      <td>0</td>\n      <td>0</td>\n      <td>0</td>\n      <td>0</td>\n      <td>...</td>\n      <td>1</td>\n      <td>0.0</td>\n      <td>0.05</td>\n      <td>0.00</td>\n      <td>0.0</td>\n      <td>0.39</td>\n      <td>0.00</td>\n      <td>0.05</td>\n      <td>0.00</td>\n      <td>warezmaster.</td>\n    </tr>\n    <tr>\n      <th>23751</th>\n      <td>10</td>\n      <td>tcp</td>\n      <td>ftp_data</td>\n      <td>SF</td>\n      <td>0</td>\n      <td>5150841</td>\n      <td>0</td>\n      <td>0</td>\n      <td>0</td>\n      <td>0</td>\n      <td>...</td>\n      <td>10</td>\n      <td>1.0</td>\n      <td>0.00</td>\n      <td>1.00</td>\n      <td>0.0</td>\n      <td>0.00</td>\n      <td>0.00</td>\n      <td>0.00</td>\n      <td>0.00</td>\n      <td>warezmaster.</td>\n    </tr>\n  </tbody>\n</table>\n<p>23752 rows × 42 columns</p>\n</div>"
     },
     "execution_count": 3,
     "metadata": {},
     "output_type": "execute_result"
    }
   ],
   "source": [
    "kddcup"
   ]
  },
  {
   "cell_type": "code",
   "execution_count": 4,
   "id": "3aa0354d",
   "metadata": {},
   "outputs": [
    {
     "data": {
      "text/plain": "   duration  protocol_type  service  flag   src_bytes   dst_bytes   land  \\\n0         0            tcp     http    SF       54540        8314      0   \n1         0            tcp     http    SF       54540        8314      0   \n2         0            tcp     http    SF       54540        8314      0   \n3         0            tcp     http    SF       54540        8314      0   \n4         0            tcp     http    SF       54540        8314      0   \n\n    wrong_fragment   urgent   hot  ...   dst_host_srv_count  \\\n0                0        0     2  ...                  190   \n1                0        0     2  ...                  255   \n2                0        0     2  ...                   99   \n3                0        0     2  ...                  255   \n4                0        0     2  ...                  255   \n\n    dst_host_same_srv_rate   dst_host_diff_srv_rate  \\\n0                      1.0                      0.0   \n1                      1.0                      0.0   \n2                      1.0                      0.0   \n3                      1.0                      0.0   \n4                      1.0                      0.0   \n\n    dst_host_same_src_port_rate   dst_host_srv_diff_host_rate  \\\n0                          0.01                           0.0   \n1                          0.00                           0.0   \n2                          0.01                           0.0   \n3                          0.00                           0.0   \n4                          0.00                           0.0   \n\n    dst_host_serror_rate   dst_host_srv_serror_rate   dst_host_rerror_rate  \\\n0                   0.00                       0.00                   0.01   \n1                   0.00                       0.00                   0.04   \n2                   0.01                       0.01                   0.01   \n3                   0.00                       0.00                   0.04   \n4                   0.01                       0.01                   0.03   \n\n    dst_host_srv_rerror_rate  label  \n0                       0.01  back.  \n1                       0.04  back.  \n2                       0.01  back.  \n3                       0.04  back.  \n4                       0.03  back.  \n\n[5 rows x 42 columns]",
      "text/html": "<div>\n<style scoped>\n    .dataframe tbody tr th:only-of-type {\n        vertical-align: middle;\n    }\n\n    .dataframe tbody tr th {\n        vertical-align: top;\n    }\n\n    .dataframe thead th {\n        text-align: right;\n    }\n</style>\n<table border=\"1\" class=\"dataframe\">\n  <thead>\n    <tr style=\"text-align: right;\">\n      <th></th>\n      <th>duration</th>\n      <th>protocol_type</th>\n      <th>service</th>\n      <th>flag</th>\n      <th>src_bytes</th>\n      <th>dst_bytes</th>\n      <th>land</th>\n      <th>wrong_fragment</th>\n      <th>urgent</th>\n      <th>hot</th>\n      <th>...</th>\n      <th>dst_host_srv_count</th>\n      <th>dst_host_same_srv_rate</th>\n      <th>dst_host_diff_srv_rate</th>\n      <th>dst_host_same_src_port_rate</th>\n      <th>dst_host_srv_diff_host_rate</th>\n      <th>dst_host_serror_rate</th>\n      <th>dst_host_srv_serror_rate</th>\n      <th>dst_host_rerror_rate</th>\n      <th>dst_host_srv_rerror_rate</th>\n      <th>label</th>\n    </tr>\n  </thead>\n  <tbody>\n    <tr>\n      <th>0</th>\n      <td>0</td>\n      <td>tcp</td>\n      <td>http</td>\n      <td>SF</td>\n      <td>54540</td>\n      <td>8314</td>\n      <td>0</td>\n      <td>0</td>\n      <td>0</td>\n      <td>2</td>\n      <td>...</td>\n      <td>190</td>\n      <td>1.0</td>\n      <td>0.0</td>\n      <td>0.01</td>\n      <td>0.0</td>\n      <td>0.00</td>\n      <td>0.00</td>\n      <td>0.01</td>\n      <td>0.01</td>\n      <td>back.</td>\n    </tr>\n    <tr>\n      <th>1</th>\n      <td>0</td>\n      <td>tcp</td>\n      <td>http</td>\n      <td>SF</td>\n      <td>54540</td>\n      <td>8314</td>\n      <td>0</td>\n      <td>0</td>\n      <td>0</td>\n      <td>2</td>\n      <td>...</td>\n      <td>255</td>\n      <td>1.0</td>\n      <td>0.0</td>\n      <td>0.00</td>\n      <td>0.0</td>\n      <td>0.00</td>\n      <td>0.00</td>\n      <td>0.04</td>\n      <td>0.04</td>\n      <td>back.</td>\n    </tr>\n    <tr>\n      <th>2</th>\n      <td>0</td>\n      <td>tcp</td>\n      <td>http</td>\n      <td>SF</td>\n      <td>54540</td>\n      <td>8314</td>\n      <td>0</td>\n      <td>0</td>\n      <td>0</td>\n      <td>2</td>\n      <td>...</td>\n      <td>99</td>\n      <td>1.0</td>\n      <td>0.0</td>\n      <td>0.01</td>\n      <td>0.0</td>\n      <td>0.01</td>\n      <td>0.01</td>\n      <td>0.01</td>\n      <td>0.01</td>\n      <td>back.</td>\n    </tr>\n    <tr>\n      <th>3</th>\n      <td>0</td>\n      <td>tcp</td>\n      <td>http</td>\n      <td>SF</td>\n      <td>54540</td>\n      <td>8314</td>\n      <td>0</td>\n      <td>0</td>\n      <td>0</td>\n      <td>2</td>\n      <td>...</td>\n      <td>255</td>\n      <td>1.0</td>\n      <td>0.0</td>\n      <td>0.00</td>\n      <td>0.0</td>\n      <td>0.00</td>\n      <td>0.00</td>\n      <td>0.04</td>\n      <td>0.04</td>\n      <td>back.</td>\n    </tr>\n    <tr>\n      <th>4</th>\n      <td>0</td>\n      <td>tcp</td>\n      <td>http</td>\n      <td>SF</td>\n      <td>54540</td>\n      <td>8314</td>\n      <td>0</td>\n      <td>0</td>\n      <td>0</td>\n      <td>2</td>\n      <td>...</td>\n      <td>255</td>\n      <td>1.0</td>\n      <td>0.0</td>\n      <td>0.00</td>\n      <td>0.0</td>\n      <td>0.01</td>\n      <td>0.01</td>\n      <td>0.03</td>\n      <td>0.03</td>\n      <td>back.</td>\n    </tr>\n  </tbody>\n</table>\n<p>5 rows × 42 columns</p>\n</div>"
     },
     "execution_count": 4,
     "metadata": {},
     "output_type": "execute_result"
    }
   ],
   "source": [
    "kddcup.head()"
   ]
  },
  {
   "cell_type": "code",
   "execution_count": null,
   "outputs": [],
   "source": [],
   "metadata": {
    "collapsed": false
   }
  }
 ],
 "metadata": {
  "kernelspec": {
   "display_name": "Python 3 (ipykernel)",
   "language": "python",
   "name": "python3"
  },
  "language_info": {
   "codemirror_mode": {
    "name": "ipython",
    "version": 3
   },
   "file_extension": ".py",
   "mimetype": "text/x-python",
   "name": "python",
   "nbconvert_exporter": "python",
   "pygments_lexer": "ipython3",
   "version": "3.10.6"
  }
 },
 "nbformat": 4,
 "nbformat_minor": 5
}
